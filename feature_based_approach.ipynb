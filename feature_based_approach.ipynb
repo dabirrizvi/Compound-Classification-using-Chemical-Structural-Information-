{
 "cells": [
  {
   "cell_type": "code",
   "execution_count": 1,
   "id": "cbb67fad",
   "metadata": {},
   "outputs": [],
   "source": [
    "import pandas as pd\n",
    "import numpy as np\n",
    "import matplotlib.pyplot as plt\n",
    "import seaborn as sns"
   ]
  },
  {
   "cell_type": "code",
   "execution_count": 2,
   "id": "50ff8b1b",
   "metadata": {},
   "outputs": [],
   "source": [
    "# reading data\n",
    "df = pd.read_csv('train_feat.csv')"
   ]
  },
  {
   "cell_type": "code",
   "execution_count": 3,
   "id": "fd7d6eaf",
   "metadata": {},
   "outputs": [
    {
     "data": {
      "text/html": [
       "<div>\n",
       "<style scoped>\n",
       "    .dataframe tbody tr th:only-of-type {\n",
       "        vertical-align: middle;\n",
       "    }\n",
       "\n",
       "    .dataframe tbody tr th {\n",
       "        vertical-align: top;\n",
       "    }\n",
       "\n",
       "    .dataframe thead th {\n",
       "        text-align: right;\n",
       "    }\n",
       "</style>\n",
       "<table border=\"1\" class=\"dataframe\">\n",
       "  <thead>\n",
       "    <tr style=\"text-align: right;\">\n",
       "      <th></th>\n",
       "      <th>ID</th>\n",
       "      <th>Type</th>\n",
       "      <th>F0</th>\n",
       "      <th>F1</th>\n",
       "      <th>F2</th>\n",
       "      <th>F3</th>\n",
       "      <th>F4</th>\n",
       "      <th>F5</th>\n",
       "      <th>F6</th>\n",
       "      <th>F7</th>\n",
       "      <th>...</th>\n",
       "      <th>F178</th>\n",
       "      <th>F179</th>\n",
       "      <th>F180</th>\n",
       "      <th>F181</th>\n",
       "      <th>F182</th>\n",
       "      <th>F183</th>\n",
       "      <th>F184</th>\n",
       "      <th>F185</th>\n",
       "      <th>F186</th>\n",
       "      <th>F187</th>\n",
       "    </tr>\n",
       "  </thead>\n",
       "  <tbody>\n",
       "    <tr>\n",
       "      <th>0</th>\n",
       "      <td>B00000</td>\n",
       "      <td>O</td>\n",
       "      <td>-7</td>\n",
       "      <td>9</td>\n",
       "      <td>2</td>\n",
       "      <td>0</td>\n",
       "      <td>1</td>\n",
       "      <td>3</td>\n",
       "      <td>0.018661</td>\n",
       "      <td>0.033087</td>\n",
       "      <td>...</td>\n",
       "      <td>0.261922</td>\n",
       "      <td>5.374833</td>\n",
       "      <td>-0.244051</td>\n",
       "      <td>6</td>\n",
       "      <td>0</td>\n",
       "      <td>66.518847</td>\n",
       "      <td>0</td>\n",
       "      <td>67.529544</td>\n",
       "      <td>70.754717</td>\n",
       "      <td>0.936</td>\n",
       "    </tr>\n",
       "    <tr>\n",
       "      <th>1</th>\n",
       "      <td>B00001</td>\n",
       "      <td>O</td>\n",
       "      <td>16</td>\n",
       "      <td>0</td>\n",
       "      <td>18</td>\n",
       "      <td>1</td>\n",
       "      <td>1</td>\n",
       "      <td>3</td>\n",
       "      <td>0.340250</td>\n",
       "      <td>0.542241</td>\n",
       "      <td>...</td>\n",
       "      <td>0.334393</td>\n",
       "      <td>11.151970</td>\n",
       "      <td>2.338377</td>\n",
       "      <td>8</td>\n",
       "      <td>0</td>\n",
       "      <td>66.518847</td>\n",
       "      <td>2</td>\n",
       "      <td>94.637224</td>\n",
       "      <td>153.061225</td>\n",
       "      <td>1.288</td>\n",
       "    </tr>\n",
       "    <tr>\n",
       "      <th>2</th>\n",
       "      <td>B00002</td>\n",
       "      <td>O</td>\n",
       "      <td>-27</td>\n",
       "      <td>27</td>\n",
       "      <td>0</td>\n",
       "      <td>0</td>\n",
       "      <td>0</td>\n",
       "      <td>0</td>\n",
       "      <td>0.065454</td>\n",
       "      <td>0.024133</td>\n",
       "      <td>...</td>\n",
       "      <td>0.118206</td>\n",
       "      <td>6.579651</td>\n",
       "      <td>1.270140</td>\n",
       "      <td>14</td>\n",
       "      <td>0</td>\n",
       "      <td>92.592593</td>\n",
       "      <td>0</td>\n",
       "      <td>108.794198</td>\n",
       "      <td>122.950820</td>\n",
       "      <td>0.680</td>\n",
       "    </tr>\n",
       "    <tr>\n",
       "      <th>3</th>\n",
       "      <td>B00003</td>\n",
       "      <td>N</td>\n",
       "      <td>-24</td>\n",
       "      <td>24</td>\n",
       "      <td>0</td>\n",
       "      <td>0</td>\n",
       "      <td>0</td>\n",
       "      <td>0</td>\n",
       "      <td>0.015118</td>\n",
       "      <td>0.008164</td>\n",
       "      <td>...</td>\n",
       "      <td>0.043204</td>\n",
       "      <td>17.917860</td>\n",
       "      <td>3.454199</td>\n",
       "      <td>2</td>\n",
       "      <td>0</td>\n",
       "      <td>80.645161</td>\n",
       "      <td>0</td>\n",
       "      <td>83.160083</td>\n",
       "      <td>86.206897</td>\n",
       "      <td>0.768</td>\n",
       "    </tr>\n",
       "    <tr>\n",
       "      <th>4</th>\n",
       "      <td>B00004</td>\n",
       "      <td>N</td>\n",
       "      <td>-10</td>\n",
       "      <td>10</td>\n",
       "      <td>0</td>\n",
       "      <td>0</td>\n",
       "      <td>0</td>\n",
       "      <td>0</td>\n",
       "      <td>0.015908</td>\n",
       "      <td>0.018113</td>\n",
       "      <td>...</td>\n",
       "      <td>0.183005</td>\n",
       "      <td>5.296747</td>\n",
       "      <td>-0.352397</td>\n",
       "      <td>0</td>\n",
       "      <td>0</td>\n",
       "      <td>61.983471</td>\n",
       "      <td>0</td>\n",
       "      <td>66.777963</td>\n",
       "      <td>133.928571</td>\n",
       "      <td>1.000</td>\n",
       "    </tr>\n",
       "  </tbody>\n",
       "</table>\n",
       "<p>5 rows × 190 columns</p>\n",
       "</div>"
      ],
      "text/plain": [
       "       ID Type  F0  F1  F2  F3  F4  F5        F6        F7  ...      F178  \\\n",
       "0  B00000    O  -7   9   2   0   1   3  0.018661  0.033087  ...  0.261922   \n",
       "1  B00001    O  16   0  18   1   1   3  0.340250  0.542241  ...  0.334393   \n",
       "2  B00002    O -27  27   0   0   0   0  0.065454  0.024133  ...  0.118206   \n",
       "3  B00003    N -24  24   0   0   0   0  0.015118  0.008164  ...  0.043204   \n",
       "4  B00004    N -10  10   0   0   0   0  0.015908  0.018113  ...  0.183005   \n",
       "\n",
       "        F179      F180  F181  F182       F183  F184        F185        F186  \\\n",
       "0   5.374833 -0.244051     6     0  66.518847     0   67.529544   70.754717   \n",
       "1  11.151970  2.338377     8     0  66.518847     2   94.637224  153.061225   \n",
       "2   6.579651  1.270140    14     0  92.592593     0  108.794198  122.950820   \n",
       "3  17.917860  3.454199     2     0  80.645161     0   83.160083   86.206897   \n",
       "4   5.296747 -0.352397     0     0  61.983471     0   66.777963  133.928571   \n",
       "\n",
       "    F187  \n",
       "0  0.936  \n",
       "1  1.288  \n",
       "2  0.680  \n",
       "3  0.768  \n",
       "4  1.000  \n",
       "\n",
       "[5 rows x 190 columns]"
      ]
     },
     "execution_count": 3,
     "metadata": {},
     "output_type": "execute_result"
    }
   ],
   "source": [
    "df.head()"
   ]
  },
  {
   "cell_type": "code",
   "execution_count": 4,
   "id": "25e681b2",
   "metadata": {},
   "outputs": [
    {
     "data": {
      "text/html": [
       "<div>\n",
       "<style scoped>\n",
       "    .dataframe tbody tr th:only-of-type {\n",
       "        vertical-align: middle;\n",
       "    }\n",
       "\n",
       "    .dataframe tbody tr th {\n",
       "        vertical-align: top;\n",
       "    }\n",
       "\n",
       "    .dataframe thead th {\n",
       "        text-align: right;\n",
       "    }\n",
       "</style>\n",
       "<table border=\"1\" class=\"dataframe\">\n",
       "  <thead>\n",
       "    <tr style=\"text-align: right;\">\n",
       "      <th></th>\n",
       "      <th>F0</th>\n",
       "      <th>F1</th>\n",
       "      <th>F2</th>\n",
       "      <th>F3</th>\n",
       "      <th>F4</th>\n",
       "      <th>F5</th>\n",
       "      <th>F6</th>\n",
       "      <th>F7</th>\n",
       "      <th>F8</th>\n",
       "      <th>F9</th>\n",
       "      <th>...</th>\n",
       "      <th>F178</th>\n",
       "      <th>F179</th>\n",
       "      <th>F180</th>\n",
       "      <th>F181</th>\n",
       "      <th>F182</th>\n",
       "      <th>F183</th>\n",
       "      <th>F184</th>\n",
       "      <th>F185</th>\n",
       "      <th>F186</th>\n",
       "      <th>F187</th>\n",
       "    </tr>\n",
       "  </thead>\n",
       "  <tbody>\n",
       "    <tr>\n",
       "      <th>count</th>\n",
       "      <td>13062.000000</td>\n",
       "      <td>13062.000000</td>\n",
       "      <td>13062.000000</td>\n",
       "      <td>13062.000000</td>\n",
       "      <td>13062.000000</td>\n",
       "      <td>13062.000000</td>\n",
       "      <td>13062.000000</td>\n",
       "      <td>13062.000000</td>\n",
       "      <td>13062.000000</td>\n",
       "      <td>13062.000000</td>\n",
       "      <td>...</td>\n",
       "      <td>13062.000000</td>\n",
       "      <td>13062.000000</td>\n",
       "      <td>13062.000000</td>\n",
       "      <td>13062.000000</td>\n",
       "      <td>13062.000000</td>\n",
       "      <td>13062.000000</td>\n",
       "      <td>13062.000000</td>\n",
       "      <td>13062.000000</td>\n",
       "      <td>13062.000000</td>\n",
       "      <td>13062.000000</td>\n",
       "    </tr>\n",
       "    <tr>\n",
       "      <th>mean</th>\n",
       "      <td>-5.010642</td>\n",
       "      <td>9.290002</td>\n",
       "      <td>4.520671</td>\n",
       "      <td>0.120655</td>\n",
       "      <td>0.573725</td>\n",
       "      <td>2.300031</td>\n",
       "      <td>0.096836</td>\n",
       "      <td>0.126552</td>\n",
       "      <td>0.132732</td>\n",
       "      <td>0.064016</td>\n",
       "      <td>...</td>\n",
       "      <td>0.196174</td>\n",
       "      <td>13.582726</td>\n",
       "      <td>1.201046</td>\n",
       "      <td>2.134283</td>\n",
       "      <td>0.073343</td>\n",
       "      <td>69.890977</td>\n",
       "      <td>1.269331</td>\n",
       "      <td>74.272472</td>\n",
       "      <td>103.665849</td>\n",
       "      <td>0.982629</td>\n",
       "    </tr>\n",
       "    <tr>\n",
       "      <th>std</th>\n",
       "      <td>13.191543</td>\n",
       "      <td>8.316621</td>\n",
       "      <td>7.053515</td>\n",
       "      <td>0.882754</td>\n",
       "      <td>1.890958</td>\n",
       "      <td>3.865684</td>\n",
       "      <td>0.112028</td>\n",
       "      <td>0.169311</td>\n",
       "      <td>0.186497</td>\n",
       "      <td>0.095972</td>\n",
       "      <td>...</td>\n",
       "      <td>0.161510</td>\n",
       "      <td>13.577910</td>\n",
       "      <td>2.148005</td>\n",
       "      <td>4.441734</td>\n",
       "      <td>0.572695</td>\n",
       "      <td>15.640697</td>\n",
       "      <td>5.676274</td>\n",
       "      <td>25.343729</td>\n",
       "      <td>41.176101</td>\n",
       "      <td>0.241950</td>\n",
       "    </tr>\n",
       "    <tr>\n",
       "      <th>min</th>\n",
       "      <td>-55.000000</td>\n",
       "      <td>0.000000</td>\n",
       "      <td>0.000000</td>\n",
       "      <td>-3.000000</td>\n",
       "      <td>0.000000</td>\n",
       "      <td>0.000000</td>\n",
       "      <td>0.000000</td>\n",
       "      <td>0.000000</td>\n",
       "      <td>0.000000</td>\n",
       "      <td>0.000000</td>\n",
       "      <td>...</td>\n",
       "      <td>0.000382</td>\n",
       "      <td>1.388939</td>\n",
       "      <td>-15.563153</td>\n",
       "      <td>0.000000</td>\n",
       "      <td>0.000000</td>\n",
       "      <td>0.000000</td>\n",
       "      <td>0.000000</td>\n",
       "      <td>0.000000</td>\n",
       "      <td>0.000000</td>\n",
       "      <td>0.000000</td>\n",
       "    </tr>\n",
       "    <tr>\n",
       "      <th>25%</th>\n",
       "      <td>-14.000000</td>\n",
       "      <td>2.000000</td>\n",
       "      <td>0.000000</td>\n",
       "      <td>0.000000</td>\n",
       "      <td>0.000000</td>\n",
       "      <td>0.000000</td>\n",
       "      <td>0.022209</td>\n",
       "      <td>0.019392</td>\n",
       "      <td>0.023584</td>\n",
       "      <td>0.008272</td>\n",
       "      <td>...</td>\n",
       "      <td>0.067952</td>\n",
       "      <td>7.162740</td>\n",
       "      <td>-0.035668</td>\n",
       "      <td>0.000000</td>\n",
       "      <td>0.000000</td>\n",
       "      <td>59.760956</td>\n",
       "      <td>0.000000</td>\n",
       "      <td>63.770430</td>\n",
       "      <td>72.815534</td>\n",
       "      <td>0.832000</td>\n",
       "    </tr>\n",
       "    <tr>\n",
       "      <th>50%</th>\n",
       "      <td>-6.000000</td>\n",
       "      <td>7.000000</td>\n",
       "      <td>1.000000</td>\n",
       "      <td>0.000000</td>\n",
       "      <td>0.000000</td>\n",
       "      <td>1.000000</td>\n",
       "      <td>0.050370</td>\n",
       "      <td>0.042847</td>\n",
       "      <td>0.048759</td>\n",
       "      <td>0.018907</td>\n",
       "      <td>...</td>\n",
       "      <td>0.150030</td>\n",
       "      <td>11.113988</td>\n",
       "      <td>1.413245</td>\n",
       "      <td>0.000000</td>\n",
       "      <td>0.000000</td>\n",
       "      <td>67.567568</td>\n",
       "      <td>0.000000</td>\n",
       "      <td>73.126143</td>\n",
       "      <td>88.235294</td>\n",
       "      <td>0.952000</td>\n",
       "    </tr>\n",
       "    <tr>\n",
       "      <th>75%</th>\n",
       "      <td>2.000000</td>\n",
       "      <td>15.000000</td>\n",
       "      <td>6.000000</td>\n",
       "      <td>0.000000</td>\n",
       "      <td>0.000000</td>\n",
       "      <td>3.000000</td>\n",
       "      <td>0.145311</td>\n",
       "      <td>0.193612</td>\n",
       "      <td>0.163994</td>\n",
       "      <td>0.106128</td>\n",
       "      <td>...</td>\n",
       "      <td>0.286833</td>\n",
       "      <td>16.658501</td>\n",
       "      <td>2.757871</td>\n",
       "      <td>2.000000</td>\n",
       "      <td>0.000000</td>\n",
       "      <td>77.120823</td>\n",
       "      <td>0.000000</td>\n",
       "      <td>84.865629</td>\n",
       "      <td>125.000000</td>\n",
       "      <td>1.104000</td>\n",
       "    </tr>\n",
       "    <tr>\n",
       "      <th>max</th>\n",
       "      <td>48.000000</td>\n",
       "      <td>55.000000</td>\n",
       "      <td>46.000000</td>\n",
       "      <td>24.000000</td>\n",
       "      <td>29.000000</td>\n",
       "      <td>38.000000</td>\n",
       "      <td>1.352993</td>\n",
       "      <td>2.061968</td>\n",
       "      <td>2.236467</td>\n",
       "      <td>4.371038</td>\n",
       "      <td>...</td>\n",
       "      <td>0.861817</td>\n",
       "      <td>357.190570</td>\n",
       "      <td>14.984042</td>\n",
       "      <td>57.000000</td>\n",
       "      <td>14.000000</td>\n",
       "      <td>184.049080</td>\n",
       "      <td>63.000000</td>\n",
       "      <td>201.342282</td>\n",
       "      <td>202.702703</td>\n",
       "      <td>7.984000</td>\n",
       "    </tr>\n",
       "  </tbody>\n",
       "</table>\n",
       "<p>8 rows × 188 columns</p>\n",
       "</div>"
      ],
      "text/plain": [
       "                 F0            F1            F2            F3            F4  \\\n",
       "count  13062.000000  13062.000000  13062.000000  13062.000000  13062.000000   \n",
       "mean      -5.010642      9.290002      4.520671      0.120655      0.573725   \n",
       "std       13.191543      8.316621      7.053515      0.882754      1.890958   \n",
       "min      -55.000000      0.000000      0.000000     -3.000000      0.000000   \n",
       "25%      -14.000000      2.000000      0.000000      0.000000      0.000000   \n",
       "50%       -6.000000      7.000000      1.000000      0.000000      0.000000   \n",
       "75%        2.000000     15.000000      6.000000      0.000000      0.000000   \n",
       "max       48.000000     55.000000     46.000000     24.000000     29.000000   \n",
       "\n",
       "                 F5            F6            F7            F8            F9  \\\n",
       "count  13062.000000  13062.000000  13062.000000  13062.000000  13062.000000   \n",
       "mean       2.300031      0.096836      0.126552      0.132732      0.064016   \n",
       "std        3.865684      0.112028      0.169311      0.186497      0.095972   \n",
       "min        0.000000      0.000000      0.000000      0.000000      0.000000   \n",
       "25%        0.000000      0.022209      0.019392      0.023584      0.008272   \n",
       "50%        1.000000      0.050370      0.042847      0.048759      0.018907   \n",
       "75%        3.000000      0.145311      0.193612      0.163994      0.106128   \n",
       "max       38.000000      1.352993      2.061968      2.236467      4.371038   \n",
       "\n",
       "       ...          F178          F179          F180          F181  \\\n",
       "count  ...  13062.000000  13062.000000  13062.000000  13062.000000   \n",
       "mean   ...      0.196174     13.582726      1.201046      2.134283   \n",
       "std    ...      0.161510     13.577910      2.148005      4.441734   \n",
       "min    ...      0.000382      1.388939    -15.563153      0.000000   \n",
       "25%    ...      0.067952      7.162740     -0.035668      0.000000   \n",
       "50%    ...      0.150030     11.113988      1.413245      0.000000   \n",
       "75%    ...      0.286833     16.658501      2.757871      2.000000   \n",
       "max    ...      0.861817    357.190570     14.984042     57.000000   \n",
       "\n",
       "               F182          F183          F184          F185          F186  \\\n",
       "count  13062.000000  13062.000000  13062.000000  13062.000000  13062.000000   \n",
       "mean       0.073343     69.890977      1.269331     74.272472    103.665849   \n",
       "std        0.572695     15.640697      5.676274     25.343729     41.176101   \n",
       "min        0.000000      0.000000      0.000000      0.000000      0.000000   \n",
       "25%        0.000000     59.760956      0.000000     63.770430     72.815534   \n",
       "50%        0.000000     67.567568      0.000000     73.126143     88.235294   \n",
       "75%        0.000000     77.120823      0.000000     84.865629    125.000000   \n",
       "max       14.000000    184.049080     63.000000    201.342282    202.702703   \n",
       "\n",
       "               F187  \n",
       "count  13062.000000  \n",
       "mean       0.982629  \n",
       "std        0.241950  \n",
       "min        0.000000  \n",
       "25%        0.832000  \n",
       "50%        0.952000  \n",
       "75%        1.104000  \n",
       "max        7.984000  \n",
       "\n",
       "[8 rows x 188 columns]"
      ]
     },
     "execution_count": 4,
     "metadata": {},
     "output_type": "execute_result"
    }
   ],
   "source": [
    "#Basic information about numerical values in the dataset\n",
    "df.describe()"
   ]
  },
  {
   "cell_type": "code",
   "execution_count": 5,
   "id": "35da869f",
   "metadata": {},
   "outputs": [
    {
     "data": {
      "text/plain": [
       "ID       object\n",
       "Type     object\n",
       "F0        int64\n",
       "F1        int64\n",
       "F2        int64\n",
       "         ...   \n",
       "F183    float64\n",
       "F184      int64\n",
       "F185    float64\n",
       "F186    float64\n",
       "F187    float64\n",
       "Length: 190, dtype: object"
      ]
     },
     "execution_count": 5,
     "metadata": {},
     "output_type": "execute_result"
    }
   ],
   "source": [
    "#to check the types of data in the dataset and to further convert all training data into float32.\n",
    "df.dtypes"
   ]
  },
  {
   "cell_type": "code",
   "execution_count": 6,
   "id": "d6e188e0",
   "metadata": {},
   "outputs": [
    {
     "data": {
      "text/plain": [
       "<AxesSubplot:>"
      ]
     },
     "execution_count": 6,
     "metadata": {},
     "output_type": "execute_result"
    },
    {
     "data": {
      "image/png": "[encoded data removed]",
      "text/plain": [
       "<Figure size 432x288 with 2 Axes>"
      ]
     },
     "metadata": {
      "needs_background": "light"
     },
     "output_type": "display_data"
    }
   ],
   "source": [
    "#To check null values of few column\n",
    "\n",
    "cols=df.columns\n",
    "sns.heatmap(df[cols].isnull())"
   ]
  },
  {
   "cell_type": "code",
   "execution_count": 7,
   "id": "1eeb22db",
   "metadata": {},
   "outputs": [
    {
     "data": {
      "text/plain": [
       "<AxesSubplot:xlabel='F0'>"
      ]
     },
     "execution_count": 7,
     "metadata": {},
     "output_type": "execute_result"
    },
    {
     "data": {
      "image/png": "[encoded data removed]",
      "text/plain": [
       "<Figure size 432x288 with 1 Axes>"
      ]
     },
     "metadata": {
      "needs_background": "light"
     },
     "output_type": "display_data"
    }
   ],
   "source": [
    "#To deal with outliners if we want for any column\n",
    "sns.boxplot(x=df.F0)\n",
    "#df=df[df['F0']<50]"
   ]
  },
  {
   "cell_type": "code",
   "execution_count": 89,
   "id": "29de6728",
   "metadata": {},
   "outputs": [],
   "source": [
    "# shuffle the dataframe before splitting\n",
    "df = df.sample(frac=1)"
   ]
  },
  {
   "cell_type": "code",
   "execution_count": 90,
   "id": "dbce55c9",
   "metadata": {},
   "outputs": [],
   "source": [
    "# To drop if duplicate rows are used\n",
    "df=df.drop_duplicates()"
   ]
  },
  {
   "cell_type": "code",
   "execution_count": 91,
   "id": "be07de38",
   "metadata": {},
   "outputs": [],
   "source": [
    "#Replace all infinite and null values\n",
    "df.replace([np.inf, -np.inf], np.nan, inplace=True)\n",
    "df.fillna(999, inplace=True)"
   ]
  },
  {
   "cell_type": "code",
   "execution_count": 92,
   "id": "0fc991f9",
   "metadata": {
    "scrolled": true
   },
   "outputs": [
    {
     "name": "stdout",
     "output_type": "stream",
     "text": [
      "The numbers of ECG signals: 13062 and each signal has: 188 samples\n",
      "The categorical classes of ECG: ['N' 'A' 'O' '~']\n",
      "Numbers of signals for each class\n",
      "N    7721\n",
      "O    3857\n",
      "A    1160\n",
      "~     324\n",
      "Name: Type, dtype: int64\n"
     ]
    }
   ],
   "source": [
    "# Classify the signals\n",
    "print(\"The numbers of ECG signals: {} and each signal has: {} samples\".format(df.shape[0], df.shape[1] - 2))\n",
    "print(\"The categorical classes of ECG: {}\".format(df[\"Type\"].unique()))\n",
    "print(\"Numbers of signals for each class\")\n",
    "print(df[\"Type\"].value_counts())"
   ]
  },
  {
   "cell_type": "code",
   "execution_count": 93,
   "id": "18a38f53",
   "metadata": {},
   "outputs": [
    {
     "name": "stdout",
     "output_type": "stream",
     "text": [
      "none of the columns have missing values\n"
     ]
    }
   ],
   "source": [
    "# To check for missing columns for training data\n",
    "missing_data = df.isnull()\n",
    "columns_missing_data = []\n",
    "for column in df.columns.values.tolist():\n",
    "  columnn_missing_data = missing_data[column].value_counts()\n",
    "  if len(columnn_missing_data) == 2:\n",
    "    print(column)\n",
    "    print(columnn_missing_data)\n",
    "    print(\"\")\n",
    "    columns_missing_data.append(column)\n",
    "\n",
    "if len(columns_missing_data) == 0:\n",
    "  print(\"none of the columns have missing values\")\n",
    "else:\n",
    "  print(\"These columns have missing data:\")\n",
    "  print(columns_missing_data)"
   ]
  },
  {
   "cell_type": "code",
   "execution_count": 94,
   "id": "a3cff3c5",
   "metadata": {},
   "outputs": [
    {
     "name": "stdout",
     "output_type": "stream",
     "text": [
      "['A' 'N' 'O' '~']\n",
      "['N' 'N' 'N' 'N' 'A']\n"
     ]
    }
   ],
   "source": [
    "#Print \"Type\" configuration and \"Type\" configuration for first 5 data\"\n",
    "y = np.asanyarray(df[\"Type\"])\n",
    "print(np.unique(y))\n",
    "print(y[0:5])"
   ]
  },
  {
   "cell_type": "code",
   "execution_count": 95,
   "id": "39e7c4bc",
   "metadata": {},
   "outputs": [],
   "source": [
    "# To split the training and testing data\n",
    "df.drop(columns = [\"ID\", \"Type\"], axis = 1, inplace = True)\n",
    "X = np.asanyarray(df)"
   ]
  },
  {
   "cell_type": "code",
   "execution_count": 96,
   "id": "7d1fd59d",
   "metadata": {},
   "outputs": [
    {
     "data": {
      "text/plain": [
       "array([[ -1.        ,   5.        ,   4.        , ...,  72.11538462,\n",
       "         81.52173913,   0.96      ],\n",
       "       [ 10.        ,   1.        ,  11.        , ...,  72.94832827,\n",
       "         89.28571429,   0.984     ],\n",
       "       [-16.        ,  16.        ,   0.        , ...,  68.33712984,\n",
       "         70.75471698,   0.904     ],\n",
       "       ...,\n",
       "       [-18.        ,  18.        ,   0.        , ...,  64.        ,\n",
       "         66.96428571,   0.984     ],\n",
       "       [-16.        ,  16.        ,   0.        , ...,  68.80733945,\n",
       "         70.75471698,   0.896     ],\n",
       "       [  5.        ,   1.        ,   8.        , ...,  72.46376812,\n",
       "        105.6338028 ,   1.24      ]])"
      ]
     },
     "execution_count": 96,
     "metadata": {},
     "output_type": "execute_result"
    }
   ],
   "source": [
    "#Print X array\n",
    "X"
   ]
  },
  {
   "cell_type": "code",
   "execution_count": 97,
   "id": "460a5c8f",
   "metadata": {},
   "outputs": [],
   "source": [
    "#creating an array of samples\n",
    "n = len(X[0])\n",
    "samples = np.arange(0, n)\n",
    "#class 0\n",
    "x_0 = X[0]\n",
    "#class 1\n",
    "x_1 = X[4]\n",
    "#class 2\n",
    "x_2 = X[12]\n",
    "#class 3\n",
    "x_3 = X[21]"
   ]
  },
  {
   "cell_type": "code",
   "execution_count": 98,
   "id": "3b11bec3",
   "metadata": {},
   "outputs": [
    {
     "data": {
      "text/plain": [
       "Text(0.5, 0, 'samples')"
      ]
     },
     "execution_count": 98,
     "metadata": {},
     "output_type": "execute_result"
    },
    {
     "data": {
      "image/png": "[encoded data removed]",
      "text/plain": [
       "<Figure size 1440x720 with 4 Axes>"
      ]
     },
     "metadata": {
      "needs_background": "light"
     },
     "output_type": "display_data"
    }
   ],
   "source": [
    "# To check different type of samples\n",
    "\n",
    "fig, axes = plt.subplots(2, 2, figsize = (20,10))\n",
    "\n",
    "sns.lineplot(x = samples, y = x_0, ax = axes[0][0])\n",
    "axes[0][0].set_title(\"Normal rhytm (N)\")\n",
    "axes[0][0].set_ylabel(\"voltage\")\n",
    "axes[0][0].set_xlabel(\"samples\")\n",
    "sns.lineplot(x = samples, y = x_1, ax = axes[0][1])\n",
    "axes[0][1].set_title(\"AF rhythm (A)\")\n",
    "axes[0][1].set_ylabel(\"voltage\")\n",
    "axes[0][1].set_xlabel(\"samples\")\n",
    "sns.lineplot(x = samples, y = x_2, ax = axes[1][0])\n",
    "axes[1][0].set_title(\"Other rhythm (O)\")\n",
    "axes[1][0].set_ylabel(\"voltage\")\n",
    "axes[1][0].set_xlabel(\"samples\")\n",
    "sns.lineplot(x = samples, y = x_3, ax = axes[1][1])\n",
    "axes[1][1].set_title(\"Noisy rhythm (~)\")\n",
    "axes[1][1].set_ylabel(\"voltage\")\n",
    "axes[1][1].set_xlabel(\"samples\")"
   ]
  },
  {
   "cell_type": "code",
   "execution_count": 99,
   "id": "d8eb9ee5",
   "metadata": {},
   "outputs": [],
   "source": [
    "np.save(\"Target.npy\", y)\n",
    "np.save(\"ECG_signals.npy\", X)"
   ]
  },
  {
   "cell_type": "code",
   "execution_count": 100,
   "id": "9e4de0cf",
   "metadata": {},
   "outputs": [],
   "source": [
    "# Converting all training data to float32 type \n",
    "X = X.astype(np.float32)"
   ]
  },
  {
   "cell_type": "code",
   "execution_count": 101,
   "id": "dc456888",
   "metadata": {},
   "outputs": [
    {
     "name": "stdout",
     "output_type": "stream",
     "text": [
      "(3918, 188) (3918,)\n",
      "(9144, 188) (9144,)\n"
     ]
    }
   ],
   "source": [
    "#Splitting the training and testing data and printing its shape \n",
    "from sklearn.model_selection import train_test_split\n",
    "\n",
    "X_train, X_test, y_train, y_test = train_test_split(X, y, test_size=0.7, random_state = 21, stratify=y)\n",
    "print(X_train.shape, y_train.shape)\n",
    "print(X_test.shape, y_test.shape)"
   ]
  },
  {
   "cell_type": "code",
   "execution_count": 102,
   "id": "3e138c5e",
   "metadata": {},
   "outputs": [
    {
     "name": "stdout",
     "output_type": "stream",
     "text": [
      "              precision    recall  f1-score   support\n",
      "\n",
      "           A       0.83      0.77      0.80       812\n",
      "           N       0.86      0.93      0.89      5405\n",
      "           O       0.78      0.69      0.73      2700\n",
      "           ~       0.64      0.39      0.49       227\n",
      "\n",
      "    accuracy                           0.83      9144\n",
      "   macro avg       0.78      0.70      0.73      9144\n",
      "weighted avg       0.83      0.83      0.83      9144\n",
      "\n"
     ]
    },
    {
     "data": {
      "image/png": "[encoded data removed]",
      "text/plain": [
       "<Figure size 432x288 with 2 Axes>"
      ]
     },
     "metadata": {
      "needs_background": "light"
     },
     "output_type": "display_data"
    }
   ],
   "source": [
    "# Create a random forest classifier \n",
    "from sklearn.ensemble import RandomForestClassifier\n",
    "from sklearn.metrics import classification_report, confusion_matrix, plot_confusion_matrix\n",
    "rfc = RandomForestClassifier(n_estimators=1200, random_state=30, bootstrap = False, criterion='gini')\n",
    "rfc.fit(X_train, y_train)\n",
    "y_test_pred = rfc.predict(X_test)\n",
    "\n",
    "# Check the confusion matrix\n",
    "disp = plot_confusion_matrix(rfc, X_test, y_test,\n",
    "                                 display_labels=None,\n",
    "                                 cmap=plt.cm.Blues)\n",
    "\n",
    "# To get a classification report.\n",
    "print(classification_report(y_test, y_test_pred))"
   ]
  },
  {
   "cell_type": "code",
   "execution_count": 9,
   "id": "bc86f42b",
   "metadata": {},
   "outputs": [
    {
     "name": "stdout",
     "output_type": "stream",
     "text": [
      "Collecting package metadata (current_repodata.json): done\n",
      "Solving environment: failed with initial frozen solve. Retrying with flexible solve.\n",
      "Solving environment: failed with repodata from current_repodata.json, will retry with next repodata source.\n",
      "Collecting package metadata (repodata.json): failed\n",
      "\n",
      "CondaHTTPError: HTTP 000 CONNECTION FAILED for url <https://conda.anaconda.org/conda-forge/osx-64/repodata.json>\n",
      "Elapsed: -\n",
      "\n",
      "An HTTP error occurred when trying to retrieve this URL.\n",
      "HTTP errors are often intermittent, and a simple retry will get you on your way.\n",
      "'https://conda.anaconda.org/conda-forge/osx-64'\n",
      "\n",
      "\n",
      "\n",
      "Note: you may need to restart the kernel to use updated packages.\n"
     ]
    }
   ],
   "source": [
    "conda install graphviz"
   ]
  },
  {
   "cell_type": "code",
   "execution_count": 118,
   "id": "1c6338f5",
   "metadata": {},
   "outputs": [],
   "source": [
    "# Building Decision Tree\n",
    "from sklearn.tree import DecisionTreeClassifier\n",
    "dt = DecisionTreeClassifier(criterion = 'gini', random_state = 30)\n",
    "dt.fit(X_train, y_train)\n",
    "dt_pred_train = dt.predict(X_train)"
   ]
  },
  {
   "cell_type": "code",
   "execution_count": 119,
   "id": "2a89fa9e",
   "metadata": {},
   "outputs": [],
   "source": [
    "import graphviz\n",
    "from sklearn.tree import export_graphviz\n",
    "from IPython.display import SVG\n",
    "\n",
    "def visualise_tree(treeclf):\n",
    "    dot = export_graphviz(treeclf, filled=True, rounded=True)\n",
    "    graph = graphviz.Source(dot)\n",
    "    display(SVG(graph.pipe(format=\"svg\")))"
   ]
  },
  {
   "cell_type": "code",
   "execution_count": null,
   "id": "e3a7c307",
   "metadata": {},
   "outputs": [],
   "source": [
    "# Your code here \n",
    "#DecisionTreeClassifier has got an attribute \"estimators_\", which is the list of individual decision trees in the forests. \n",
    "#Randomly pick two trees to visualise.\n",
    "visualise_tree(rfc.estimators_[100])\n",
    "visualise_tree(rfc.estimators_[120])"
   ]
  },
  {
   "cell_type": "code",
   "execution_count": 116,
   "id": "5fe4dd3f",
   "metadata": {},
   "outputs": [
    {
     "name": "stdout",
     "output_type": "stream",
     "text": [
      "Model with rank: 1\n",
      "Mean validation score: 0.812 (std: 0.012)\n",
      "Parameters: {'max_depth': 8, 'n_estimators': 100}\n",
      "\n",
      "Model with rank: 2\n",
      "Mean validation score: 0.755 (std: 0.023)\n",
      "Parameters: {'max_depth': 8, 'n_estimators': 1}\n",
      "\n",
      "Model with rank: 3\n",
      "Mean validation score: 0.745 (std: 0.008)\n",
      "Parameters: {'max_depth': 2, 'n_estimators': 100}\n",
      "\n"
     ]
    }
   ],
   "source": [
    "# Hyper parameter tuning using grid searchGrid search\n",
    "# Utility function to report best scores\n",
    "def report(results, n_top=3):\n",
    "    for i in range(1, n_top + 1):\n",
    "        candidates = np.flatnonzero(results['rank_test_score'] == i)\n",
    "        for candidate in candidates:\n",
    "            print(\"Model with rank: {0}\".format(i))\n",
    "            print(\"Mean validation score: {0:.3f} (std: {1:.3f})\"\n",
    "                  .format(results['mean_test_score'][candidate],\n",
    "                          results['std_test_score'][candidate]))\n",
    "            print(\"Parameters: {0}\".format(results['params'][candidate]))\n",
    "            print(\"\")\n",
    "            \n",
    "from sklearn.model_selection import GridSearchCV\n",
    "# use a full grid over all parameters\n",
    "param_grid = {'n_estimators': [1,100], \"max_depth\" : [2, 8]}\n",
    "\n",
    "# run grid search\n",
    "grid_search = GridSearchCV(rfc, param_grid=param_grid, cv=10)\n",
    "grid_search.fit(X_train, y_train)\n",
    "report(grid_search.cv_results_)       "
   ]
  },
  {
   "cell_type": "code",
   "execution_count": 117,
   "id": "f5cfd494",
   "metadata": {},
   "outputs": [
    {
     "name": "stdout",
     "output_type": "stream",
     "text": [
      "Model with rank: 1\n",
      "Mean validation score: 0.517 (std: 0.028)\n",
      "Parameters: {'max_depth': 8, 'n_estimators': 100}\n",
      "\n",
      "Model with rank: 2\n",
      "Mean validation score: 0.415 (std: 0.046)\n",
      "Parameters: {'max_depth': 8, 'n_estimators': 1}\n",
      "\n",
      "Model with rank: 3\n",
      "Mean validation score: 0.394 (std: 0.019)\n",
      "Parameters: {'max_depth': 2, 'n_estimators': 100}\n",
      "\n"
     ]
    }
   ],
   "source": [
    "# A different metric e.g. AUC to score\n",
    "# Bad results\n",
    "#\n",
    "def report(results, n_top=3):\n",
    "    for i in range(1, n_top + 1):\n",
    "        candidates = np.flatnonzero(results['rank_test_score'] == i)\n",
    "        for candidate in candidates:\n",
    "            print(\"Model with rank: {0}\".format(i))\n",
    "            print(\"Mean validation score: {0:.3f} (std: {1:.3f})\"\n",
    "                  .format(results['mean_test_score'][candidate],\n",
    "                          results['std_test_score'][candidate]))\n",
    "            print(\"Parameters: {0}\".format(results['params'][candidate]))\n",
    "            print(\"\")\n",
    "            \n",
    "from sklearn.model_selection import GridSearchCV\n",
    "# use a full grid over all parameters\n",
    "param_grid = {'n_estimators': [1,100], \"max_depth\" : [2, 8]}\n",
    "\n",
    "# run grid search\n",
    "grid_search = GridSearchCV(rfc, param_grid=param_grid,scoring='adjusted_rand_score', cv=10)\n",
    "grid_search.fit(X_train, y_train)\n",
    "report(grid_search.cv_results_)        "
   ]
  },
  {
   "cell_type": "code",
   "execution_count": 115,
   "id": "9c41dd03",
   "metadata": {},
   "outputs": [],
   "source": [
    "testing_data=pd.read_csv('test_feat.csv',index_col=0)\n",
    "testing_data.replace([np.inf, -np.inf], np.nan, inplace=True)\n",
    "testing_data.fillna(999, inplace=True)"
   ]
  },
  {
   "cell_type": "code",
   "execution_count": 27,
   "id": "ff90a5d5",
   "metadata": {},
   "outputs": [
    {
     "name": "stdout",
     "output_type": "stream",
     "text": [
      "none of the columns have missing values\n"
     ]
    }
   ],
   "source": [
    "missing_data = testing_data.isnull()\n",
    "columns_missing_data = []\n",
    "for column in testing_data.columns.values.tolist():\n",
    "  columnn_missing_data = missing_data[column].value_counts()\n",
    "  if len(columnn_missing_data) == 2:\n",
    "    print(column)\n",
    "    print(columnn_missing_data)\n",
    "    print(\"\")\n",
    "    columns_missing_data.append(column)\n",
    "\n",
    "if len(columns_missing_data) == 0:\n",
    "  print(\"none of the columns have missing values\")\n",
    "else:\n",
    "  print(\"These columns have missing data:\")\n",
    "  print(columns_missing_data)"
   ]
  },
  {
   "cell_type": "code",
   "execution_count": 81,
   "id": "778293c9",
   "metadata": {},
   "outputs": [],
   "source": [
    "#RANDOM FOREST\n",
    "from sklearn.ensemble import RandomForestClassifier\n",
    "\n",
    "clf = RandomForestClassifier(n_estimators=1200, random_state=30, bootstrap = False, criterion='gini')\n",
    "\n",
    "clf.fit(X,y.ravel())\n",
    "\n",
    "proba=clf.predict(testing_data.values)\n",
    "results=pd.DataFrame(proba,columns=[\"Predicted\"])\n",
    "results.index=testing_data.index.values\n",
    "results.index.names=[\"ID\"]\n",
    "results.to_csv(\"submissionRF2.csv\")"
   ]
  },
  {
   "cell_type": "code",
   "execution_count": 119,
   "id": "8955d4a3",
   "metadata": {},
   "outputs": [],
   "source": [
    "#SVM\n",
    "from sklearn.svm import SVC\n",
    "\n",
    "clf=SVC(probability = True, C=2.57)\n",
    "\n",
    "clf.fit(X,y.ravel())\n",
    "\n",
    "proba=clf.predict(testing_data.values)\n",
    "results=pd.DataFrame(proba,columns=[\"Predicted\"])\n",
    "results.index=testing_data.index.values\n",
    "results.index.names=[\"ID\"]\n",
    "results.to_csv(\"submission2.csv\")"
   ]
  },
  {
   "cell_type": "code",
   "execution_count": null,
   "id": "b1797cda",
   "metadata": {},
   "outputs": [],
   "source": []
  },
  {
   "cell_type": "code",
   "execution_count": null,
   "id": "e3f70caf",
   "metadata": {},
   "outputs": [],
   "source": []
  }
 ],
 "metadata": {
  "kernelspec": {
   "display_name": "Python 3",
   "language": "python",
   "name": "python3"
  },
  "language_info": {
   "codemirror_mode": {
    "name": "ipython",
    "version": 3
   },
   "file_extension": ".py",
   "mimetype": "text/x-python",
   "name": "python",
   "nbconvert_exporter": "python",
   "pygments_lexer": "ipython3",
   "version": "3.8.8"
  }
 },
 "nbformat": 4,
 "nbformat_minor": 5
}
